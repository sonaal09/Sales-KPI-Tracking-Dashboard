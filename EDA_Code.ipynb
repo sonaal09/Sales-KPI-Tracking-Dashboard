{
 "cells": [
  {
   "cell_type": "code",
   "execution_count": 80,
   "id": "bfb780ab",
   "metadata": {},
   "outputs": [],
   "source": [
    "import pandas as pd\n",
    "import numpy as np\n",
    "import matplotlib.pyplot as plt \n",
    "import seaborn as sns \n"
   ]
  },
  {
   "cell_type": "markdown",
   "id": "7ff9c788",
   "metadata": {},
   "source": [
    "importing all the necessary Python libraries for data handling (pandas, numpy) and visualizations (matplotlib, seaborn).\n",
    "\n"
   ]
  },
  {
   "cell_type": "code",
   "execution_count": 81,
   "id": "fcb06a53",
   "metadata": {},
   "outputs": [
    {
     "data": {
      "text/html": [
       "<div>\n",
       "<style scoped>\n",
       "    .dataframe tbody tr th:only-of-type {\n",
       "        vertical-align: middle;\n",
       "    }\n",
       "\n",
       "    .dataframe tbody tr th {\n",
       "        vertical-align: top;\n",
       "    }\n",
       "\n",
       "    .dataframe thead th {\n",
       "        text-align: right;\n",
       "    }\n",
       "</style>\n",
       "<table border=\"1\" class=\"dataframe\">\n",
       "  <thead>\n",
       "    <tr style=\"text-align: right;\">\n",
       "      <th></th>\n",
       "      <th>invoice_id</th>\n",
       "      <th>Branch</th>\n",
       "      <th>City</th>\n",
       "      <th>category</th>\n",
       "      <th>unit_price</th>\n",
       "      <th>quantity</th>\n",
       "      <th>date</th>\n",
       "      <th>time</th>\n",
       "      <th>payment_method</th>\n",
       "      <th>rating</th>\n",
       "      <th>profit_margin</th>\n",
       "    </tr>\n",
       "  </thead>\n",
       "  <tbody>\n",
       "    <tr>\n",
       "      <th>0</th>\n",
       "      <td>1</td>\n",
       "      <td>WALM003</td>\n",
       "      <td>San Antonio</td>\n",
       "      <td>Health and beauty</td>\n",
       "      <td>$74.69</td>\n",
       "      <td>7.0</td>\n",
       "      <td>05/01/19</td>\n",
       "      <td>13:08:00</td>\n",
       "      <td>Ewallet</td>\n",
       "      <td>9.1</td>\n",
       "      <td>0.48</td>\n",
       "    </tr>\n",
       "    <tr>\n",
       "      <th>1</th>\n",
       "      <td>2</td>\n",
       "      <td>WALM048</td>\n",
       "      <td>Harlingen</td>\n",
       "      <td>Electronic accessories</td>\n",
       "      <td>$15.28</td>\n",
       "      <td>5.0</td>\n",
       "      <td>08/03/19</td>\n",
       "      <td>10:29:00</td>\n",
       "      <td>Cash</td>\n",
       "      <td>9.6</td>\n",
       "      <td>0.48</td>\n",
       "    </tr>\n",
       "    <tr>\n",
       "      <th>2</th>\n",
       "      <td>3</td>\n",
       "      <td>WALM067</td>\n",
       "      <td>Haltom City</td>\n",
       "      <td>Home and lifestyle</td>\n",
       "      <td>$46.33</td>\n",
       "      <td>7.0</td>\n",
       "      <td>03/03/19</td>\n",
       "      <td>13:23:00</td>\n",
       "      <td>Credit card</td>\n",
       "      <td>7.4</td>\n",
       "      <td>0.33</td>\n",
       "    </tr>\n",
       "    <tr>\n",
       "      <th>3</th>\n",
       "      <td>4</td>\n",
       "      <td>WALM064</td>\n",
       "      <td>Bedford</td>\n",
       "      <td>Health and beauty</td>\n",
       "      <td>$58.22</td>\n",
       "      <td>8.0</td>\n",
       "      <td>27/01/19</td>\n",
       "      <td>20:33:00</td>\n",
       "      <td>Ewallet</td>\n",
       "      <td>8.4</td>\n",
       "      <td>0.33</td>\n",
       "    </tr>\n",
       "    <tr>\n",
       "      <th>4</th>\n",
       "      <td>5</td>\n",
       "      <td>WALM013</td>\n",
       "      <td>Irving</td>\n",
       "      <td>Sports and travel</td>\n",
       "      <td>$86.31</td>\n",
       "      <td>7.0</td>\n",
       "      <td>08/02/19</td>\n",
       "      <td>10:37:00</td>\n",
       "      <td>Ewallet</td>\n",
       "      <td>5.3</td>\n",
       "      <td>0.48</td>\n",
       "    </tr>\n",
       "  </tbody>\n",
       "</table>\n",
       "</div>"
      ],
      "text/plain": [
       "   invoice_id   Branch         City                category unit_price  \\\n",
       "0           1  WALM003  San Antonio       Health and beauty     $74.69   \n",
       "1           2  WALM048    Harlingen  Electronic accessories     $15.28   \n",
       "2           3  WALM067  Haltom City      Home and lifestyle     $46.33   \n",
       "3           4  WALM064      Bedford       Health and beauty     $58.22   \n",
       "4           5  WALM013       Irving       Sports and travel     $86.31   \n",
       "\n",
       "   quantity      date      time payment_method  rating  profit_margin  \n",
       "0       7.0  05/01/19  13:08:00        Ewallet     9.1           0.48  \n",
       "1       5.0  08/03/19  10:29:00           Cash     9.6           0.48  \n",
       "2       7.0  03/03/19  13:23:00    Credit card     7.4           0.33  \n",
       "3       8.0  27/01/19  20:33:00        Ewallet     8.4           0.33  \n",
       "4       7.0  08/02/19  10:37:00        Ewallet     5.3           0.48  "
      ]
     },
     "execution_count": 81,
     "metadata": {},
     "output_type": "execute_result"
    }
   ],
   "source": [
    "walmart_df = pd.read_csv('Walmart.csv')\n",
    "walmart_df.head()"
   ]
  },
  {
   "cell_type": "markdown",
   "id": "7b7740d8",
   "metadata": {},
   "source": [
    "reading the raw Walmart dataset to see the first few rows and get a feel for the structure. The data contains columns like walmart braches which is define by different code and the cities they operate with their prices, quanity sold, date, time , different method through which payment was made and etc."
   ]
  },
  {
   "cell_type": "markdown",
   "id": "7e35b959",
   "metadata": {},
   "source": [
    "Data Exploration\n",
    "\n"
   ]
  },
  {
   "cell_type": "code",
   "execution_count": 82,
   "id": "3b8e3bd0",
   "metadata": {},
   "outputs": [
    {
     "data": {
      "text/html": [
       "<div>\n",
       "<style scoped>\n",
       "    .dataframe tbody tr th:only-of-type {\n",
       "        vertical-align: middle;\n",
       "    }\n",
       "\n",
       "    .dataframe tbody tr th {\n",
       "        vertical-align: top;\n",
       "    }\n",
       "\n",
       "    .dataframe thead th {\n",
       "        text-align: right;\n",
       "    }\n",
       "</style>\n",
       "<table border=\"1\" class=\"dataframe\">\n",
       "  <thead>\n",
       "    <tr style=\"text-align: right;\">\n",
       "      <th></th>\n",
       "      <th>invoice_id</th>\n",
       "      <th>quantity</th>\n",
       "      <th>rating</th>\n",
       "      <th>profit_margin</th>\n",
       "    </tr>\n",
       "  </thead>\n",
       "  <tbody>\n",
       "    <tr>\n",
       "      <th>count</th>\n",
       "      <td>10051.000000</td>\n",
       "      <td>10020.000000</td>\n",
       "      <td>10051.000000</td>\n",
       "      <td>10051.000000</td>\n",
       "    </tr>\n",
       "    <tr>\n",
       "      <th>mean</th>\n",
       "      <td>5025.741220</td>\n",
       "      <td>2.353493</td>\n",
       "      <td>5.825659</td>\n",
       "      <td>0.393791</td>\n",
       "    </tr>\n",
       "    <tr>\n",
       "      <th>std</th>\n",
       "      <td>2901.174372</td>\n",
       "      <td>1.602658</td>\n",
       "      <td>1.763991</td>\n",
       "      <td>0.090669</td>\n",
       "    </tr>\n",
       "    <tr>\n",
       "      <th>min</th>\n",
       "      <td>1.000000</td>\n",
       "      <td>1.000000</td>\n",
       "      <td>3.000000</td>\n",
       "      <td>0.180000</td>\n",
       "    </tr>\n",
       "    <tr>\n",
       "      <th>25%</th>\n",
       "      <td>2513.500000</td>\n",
       "      <td>1.000000</td>\n",
       "      <td>4.000000</td>\n",
       "      <td>0.330000</td>\n",
       "    </tr>\n",
       "    <tr>\n",
       "      <th>50%</th>\n",
       "      <td>5026.000000</td>\n",
       "      <td>2.000000</td>\n",
       "      <td>6.000000</td>\n",
       "      <td>0.330000</td>\n",
       "    </tr>\n",
       "    <tr>\n",
       "      <th>75%</th>\n",
       "      <td>7538.500000</td>\n",
       "      <td>3.000000</td>\n",
       "      <td>7.000000</td>\n",
       "      <td>0.480000</td>\n",
       "    </tr>\n",
       "    <tr>\n",
       "      <th>max</th>\n",
       "      <td>10000.000000</td>\n",
       "      <td>10.000000</td>\n",
       "      <td>10.000000</td>\n",
       "      <td>0.570000</td>\n",
       "    </tr>\n",
       "  </tbody>\n",
       "</table>\n",
       "</div>"
      ],
      "text/plain": [
       "         invoice_id      quantity        rating  profit_margin\n",
       "count  10051.000000  10020.000000  10051.000000   10051.000000\n",
       "mean    5025.741220      2.353493      5.825659       0.393791\n",
       "std     2901.174372      1.602658      1.763991       0.090669\n",
       "min        1.000000      1.000000      3.000000       0.180000\n",
       "25%     2513.500000      1.000000      4.000000       0.330000\n",
       "50%     5026.000000      2.000000      6.000000       0.330000\n",
       "75%     7538.500000      3.000000      7.000000       0.480000\n",
       "max    10000.000000     10.000000     10.000000       0.570000"
      ]
     },
     "execution_count": 82,
     "metadata": {},
     "output_type": "execute_result"
    }
   ],
   "source": [
    "walmart_df.describe()"
   ]
  },
  {
   "cell_type": "markdown",
   "id": "ce882aab",
   "metadata": {},
   "source": [
    "Checking statistics of the all the numerical columns using describe function."
   ]
  },
  {
   "cell_type": "code",
   "execution_count": 83,
   "id": "cb4a09c0",
   "metadata": {},
   "outputs": [
    {
     "data": {
      "text/plain": [
       "invoice_id          int64\n",
       "Branch             object\n",
       "City               object\n",
       "category           object\n",
       "unit_price         object\n",
       "quantity          float64\n",
       "date               object\n",
       "time               object\n",
       "payment_method     object\n",
       "rating            float64\n",
       "profit_margin     float64\n",
       "dtype: object"
      ]
     },
     "execution_count": 83,
     "metadata": {},
     "output_type": "execute_result"
    }
   ],
   "source": [
    "walmart_df.dtypes"
   ]
  },
  {
   "cell_type": "markdown",
   "id": "97c51330",
   "metadata": {},
   "source": [
    "checking data types of each columns "
   ]
  },
  {
   "cell_type": "code",
   "execution_count": 84,
   "id": "80d88ae6",
   "metadata": {},
   "outputs": [
    {
     "data": {
      "text/plain": [
       "(10051, 11)"
      ]
     },
     "execution_count": 84,
     "metadata": {},
     "output_type": "execute_result"
    }
   ],
   "source": [
    "walmart_df.shape"
   ]
  },
  {
   "cell_type": "markdown",
   "id": "59aa597e",
   "metadata": {},
   "source": [
    "checking how many rows and columns dataset include."
   ]
  },
  {
   "cell_type": "code",
   "execution_count": 85,
   "id": "57829022",
   "metadata": {},
   "outputs": [
    {
     "data": {
      "text/plain": [
       "np.int64(0)"
      ]
     },
     "execution_count": 85,
     "metadata": {},
     "output_type": "execute_result"
    }
   ],
   "source": [
    "walmart_df['invoice_id'].isna().sum()"
   ]
  },
  {
   "cell_type": "markdown",
   "id": "d8094432",
   "metadata": {},
   "source": [
    "checking how many missing (NaN) values are in the invoice_id column."
   ]
  },
  {
   "cell_type": "code",
   "execution_count": 86,
   "id": "bf0dad22",
   "metadata": {},
   "outputs": [
    {
     "data": {
      "text/plain": [
       "np.int64(0)"
      ]
     },
     "execution_count": 86,
     "metadata": {},
     "output_type": "execute_result"
    }
   ],
   "source": [
    "walmart_df['Branch'].isna().sum()"
   ]
  },
  {
   "cell_type": "markdown",
   "id": "c24c69d6",
   "metadata": {},
   "source": [
    "We're checking how many missing (NaN) values are in the Branch column."
   ]
  },
  {
   "cell_type": "code",
   "execution_count": 87,
   "id": "a21d753d",
   "metadata": {},
   "outputs": [
    {
     "data": {
      "text/plain": [
       "np.int64(0)"
      ]
     },
     "execution_count": 87,
     "metadata": {},
     "output_type": "execute_result"
    }
   ],
   "source": [
    "walmart_df['City'].isna().sum()"
   ]
  },
  {
   "cell_type": "markdown",
   "id": "b7169a45",
   "metadata": {},
   "source": [
    "We're checking how many missing (NaN) values are in the City column."
   ]
  },
  {
   "cell_type": "code",
   "execution_count": 88,
   "id": "1b273e94",
   "metadata": {},
   "outputs": [
    {
     "data": {
      "text/plain": [
       "invoice_id         0\n",
       "Branch             0\n",
       "City               0\n",
       "category           0\n",
       "unit_price        31\n",
       "quantity          31\n",
       "date               0\n",
       "time               0\n",
       "payment_method     0\n",
       "rating             0\n",
       "profit_margin      0\n",
       "dtype: int64"
      ]
     },
     "execution_count": 88,
     "metadata": {},
     "output_type": "execute_result"
    }
   ],
   "source": [
    "walmart_df.isnull().sum()"
   ]
  },
  {
   "cell_type": "markdown",
   "id": "056ee7b7",
   "metadata": {},
   "source": [
    "This shows us how many missing values each column has. It’s an important step before cleaning the data.\n",
    "\n"
   ]
  },
  {
   "cell_type": "code",
   "execution_count": 89,
   "id": "6fe6a0ad",
   "metadata": {},
   "outputs": [
    {
     "data": {
      "text/plain": [
       "np.int64(31)"
      ]
     },
     "execution_count": 89,
     "metadata": {},
     "output_type": "execute_result"
    }
   ],
   "source": [
    "walmart_df['unit_price'].isnull().sum()"
   ]
  },
  {
   "cell_type": "markdown",
   "id": "2a63f075",
   "metadata": {},
   "source": [
    "We're checking how many missing (NaN) values are in the Unit Price column."
   ]
  },
  {
   "cell_type": "markdown",
   "id": "b212bba4",
   "metadata": {},
   "source": [
    "Data Cleaning"
   ]
  },
  {
   "cell_type": "code",
   "execution_count": 90,
   "id": "8ed96485",
   "metadata": {},
   "outputs": [],
   "source": [
    "walmart_df['unit_price'] = walmart_df['unit_price'].astype(str)"
   ]
  },
  {
   "cell_type": "markdown",
   "id": "bddff3e2",
   "metadata": {},
   "source": [
    "We’re converting the unit_price column to strings so we can remove any unwanted symbols like dollar signs."
   ]
  },
  {
   "cell_type": "code",
   "execution_count": 91,
   "id": "4f8336e6",
   "metadata": {},
   "outputs": [],
   "source": [
    "walmart_df['unit_price'] = walmart_df['unit_price'].astype(str).str.replace('[\\$]','',regex=True).str.strip()"
   ]
  },
  {
   "cell_type": "markdown",
   "id": "579b7138",
   "metadata": {},
   "source": [
    "This line removes the dollar sign ($) and any extra spaces from the unit_price values to clean up the format."
   ]
  },
  {
   "cell_type": "code",
   "execution_count": 92,
   "id": "ff32d62e",
   "metadata": {},
   "outputs": [],
   "source": [
    "walmart_df['unit_price'] = pd.to_numeric(walmart_df['unit_price'],errors='coerce')"
   ]
  },
  {
   "cell_type": "markdown",
   "id": "e4636869",
   "metadata": {},
   "source": [
    "We’re converting the cleaned strings back to numeric values. If any value still can’t be converted, it will be set as NaN (missing), which we can handle later."
   ]
  },
  {
   "cell_type": "code",
   "execution_count": 93,
   "id": "9d58d0ca",
   "metadata": {},
   "outputs": [
    {
     "data": {
      "text/plain": [
       "count    10020.000000\n",
       "mean        50.630053\n",
       "std         21.197783\n",
       "min         10.080000\n",
       "25%         32.000000\n",
       "50%         51.000000\n",
       "75%         69.000000\n",
       "max         99.960000\n",
       "Name: unit_price, dtype: float64"
      ]
     },
     "execution_count": 93,
     "metadata": {},
     "output_type": "execute_result"
    }
   ],
   "source": [
    "walmart_df['unit_price'].describe()"
   ]
  },
  {
   "cell_type": "markdown",
   "id": "bb59cad1",
   "metadata": {},
   "source": [
    "This gives us basic statistics like the mean, median, and range for the unit_price column. It helps us understand the overall price distribution."
   ]
  },
  {
   "cell_type": "code",
   "execution_count": 94,
   "id": "89307bb5",
   "metadata": {},
   "outputs": [
    {
     "name": "stdout",
     "output_type": "stream",
     "text": [
      "50.63005289421158 51.0\n"
     ]
    }
   ],
   "source": [
    "unitprice_mean = walmart_df['unit_price'].mean() \n",
    "unitprice_median = walmart_df['unit_price'].median()\n",
    "print(unitprice_mean,unitprice_median)"
   ]
  },
  {
   "cell_type": "markdown",
   "id": "d852a532",
   "metadata": {},
   "source": [
    "We’re calculating and printing the average (mean) and the middle value (median) of the unit prices. This helps us see if the data is skewed — for example, if the mean is much higher than the median."
   ]
  },
  {
   "cell_type": "code",
   "execution_count": 95,
   "id": "f4973c16",
   "metadata": {},
   "outputs": [
    {
     "data": {
      "text/html": [
       "<div>\n",
       "<style scoped>\n",
       "    .dataframe tbody tr th:only-of-type {\n",
       "        vertical-align: middle;\n",
       "    }\n",
       "\n",
       "    .dataframe tbody tr th {\n",
       "        vertical-align: top;\n",
       "    }\n",
       "\n",
       "    .dataframe thead th {\n",
       "        text-align: right;\n",
       "    }\n",
       "</style>\n",
       "<table border=\"1\" class=\"dataframe\">\n",
       "  <thead>\n",
       "    <tr style=\"text-align: right;\">\n",
       "      <th></th>\n",
       "      <th>invoice_id</th>\n",
       "      <th>Branch</th>\n",
       "      <th>City</th>\n",
       "      <th>category</th>\n",
       "      <th>unit_price</th>\n",
       "      <th>quantity</th>\n",
       "      <th>date</th>\n",
       "      <th>time</th>\n",
       "      <th>payment_method</th>\n",
       "      <th>rating</th>\n",
       "      <th>profit_margin</th>\n",
       "    </tr>\n",
       "  </thead>\n",
       "  <tbody>\n",
       "    <tr>\n",
       "      <th>1892</th>\n",
       "      <td>1893</td>\n",
       "      <td>WALM024</td>\n",
       "      <td>Carrollton</td>\n",
       "      <td>Home and lifestyle</td>\n",
       "      <td>NaN</td>\n",
       "      <td>NaN</td>\n",
       "      <td>09/06/23</td>\n",
       "      <td>16:09:00</td>\n",
       "      <td>Ewallet</td>\n",
       "      <td>9.0</td>\n",
       "      <td>0.48</td>\n",
       "    </tr>\n",
       "    <tr>\n",
       "      <th>1893</th>\n",
       "      <td>1894</td>\n",
       "      <td>WALM009</td>\n",
       "      <td>Plano</td>\n",
       "      <td>Fashion accessories</td>\n",
       "      <td>NaN</td>\n",
       "      <td>NaN</td>\n",
       "      <td>02/08/22</td>\n",
       "      <td>22:11:00</td>\n",
       "      <td>Ewallet</td>\n",
       "      <td>4.0</td>\n",
       "      <td>0.48</td>\n",
       "    </tr>\n",
       "    <tr>\n",
       "      <th>1894</th>\n",
       "      <td>1895</td>\n",
       "      <td>WALM010</td>\n",
       "      <td>Laredo</td>\n",
       "      <td>Home and lifestyle</td>\n",
       "      <td>NaN</td>\n",
       "      <td>NaN</td>\n",
       "      <td>01/08/23</td>\n",
       "      <td>12:06:00</td>\n",
       "      <td>Ewallet</td>\n",
       "      <td>4.0</td>\n",
       "      <td>0.48</td>\n",
       "    </tr>\n",
       "    <tr>\n",
       "      <th>1895</th>\n",
       "      <td>1896</td>\n",
       "      <td>WALM069</td>\n",
       "      <td>Rockwall</td>\n",
       "      <td>Fashion accessories</td>\n",
       "      <td>NaN</td>\n",
       "      <td>NaN</td>\n",
       "      <td>21/07/23</td>\n",
       "      <td>15:49:00</td>\n",
       "      <td>Ewallet</td>\n",
       "      <td>4.0</td>\n",
       "      <td>0.33</td>\n",
       "    </tr>\n",
       "    <tr>\n",
       "      <th>1896</th>\n",
       "      <td>1897</td>\n",
       "      <td>WALM093</td>\n",
       "      <td>Angleton</td>\n",
       "      <td>Home and lifestyle</td>\n",
       "      <td>NaN</td>\n",
       "      <td>NaN</td>\n",
       "      <td>15/05/22</td>\n",
       "      <td>12:36:00</td>\n",
       "      <td>Ewallet</td>\n",
       "      <td>9.0</td>\n",
       "      <td>0.33</td>\n",
       "    </tr>\n",
       "  </tbody>\n",
       "</table>\n",
       "</div>"
      ],
      "text/plain": [
       "      invoice_id   Branch        City             category  unit_price  \\\n",
       "1892        1893  WALM024  Carrollton   Home and lifestyle         NaN   \n",
       "1893        1894  WALM009       Plano  Fashion accessories         NaN   \n",
       "1894        1895  WALM010      Laredo   Home and lifestyle         NaN   \n",
       "1895        1896  WALM069    Rockwall  Fashion accessories         NaN   \n",
       "1896        1897  WALM093    Angleton   Home and lifestyle         NaN   \n",
       "\n",
       "      quantity      date      time payment_method  rating  profit_margin  \n",
       "1892       NaN  09/06/23  16:09:00        Ewallet     9.0           0.48  \n",
       "1893       NaN  02/08/22  22:11:00        Ewallet     4.0           0.48  \n",
       "1894       NaN  01/08/23  12:06:00        Ewallet     4.0           0.48  \n",
       "1895       NaN  21/07/23  15:49:00        Ewallet     4.0           0.33  \n",
       "1896       NaN  15/05/22  12:36:00        Ewallet     9.0           0.33  "
      ]
     },
     "execution_count": 95,
     "metadata": {},
     "output_type": "execute_result"
    }
   ],
   "source": [
    "walmart_df[walmart_df['unit_price'].isnull()].head()"
   ]
  },
  {
   "cell_type": "markdown",
   "id": "f732bb08",
   "metadata": {},
   "source": [
    "Here we’re displaying the first few rows where the unit_price is missing. This helps us quickly review the records with NaN values."
   ]
  },
  {
   "cell_type": "code",
   "execution_count": 96,
   "id": "341f1d43",
   "metadata": {},
   "outputs": [
    {
     "data": {
      "text/plain": [
       "np.int64(0)"
      ]
     },
     "execution_count": 96,
     "metadata": {},
     "output_type": "execute_result"
    }
   ],
   "source": [
    "# replace na values to its mean value \n",
    "\n",
    "walmart_df['unit_price'] = walmart_df['unit_price'].fillna(unitprice_mean)\n",
    "walmart_df['unit_price'].isnull().sum()"
   ]
  },
  {
   "cell_type": "markdown",
   "id": "095e8446",
   "metadata": {},
   "source": [
    "We’re replacing all missing values in the unit_price column with the column’s average value. "
   ]
  },
  {
   "cell_type": "code",
   "execution_count": 97,
   "id": "ebdc88b8",
   "metadata": {},
   "outputs": [
    {
     "data": {
      "text/plain": [
       "np.int64(0)"
      ]
     },
     "execution_count": 97,
     "metadata": {},
     "output_type": "execute_result"
    }
   ],
   "source": [
    "walmart_df['unit_price'].isnull().sum()"
   ]
  },
  {
   "cell_type": "markdown",
   "id": "a735cb4e",
   "metadata": {},
   "source": [
    "We’re checking again to make sure there are no more missing values in the unit_price column after filling them."
   ]
  },
  {
   "cell_type": "code",
   "execution_count": 98,
   "id": "4846842d",
   "metadata": {},
   "outputs": [
    {
     "data": {
      "text/plain": [
       "np.int64(31)"
      ]
     },
     "execution_count": 98,
     "metadata": {},
     "output_type": "execute_result"
    }
   ],
   "source": [
    "walmart_df['quantity'].isnull().sum()"
   ]
  },
  {
   "cell_type": "markdown",
   "id": "9b48167c",
   "metadata": {},
   "source": [
    "We’re checking how many missing values are in the quantity column. This helps us decide how to clean it."
   ]
  },
  {
   "cell_type": "code",
   "execution_count": 99,
   "id": "ec10af2a",
   "metadata": {},
   "outputs": [
    {
     "name": "stdout",
     "output_type": "stream",
     "text": [
      "2.353493013972056 2.0\n"
     ]
    }
   ],
   "source": [
    "quantity_mean = walmart_df['quantity'].mean()\n",
    "quantity_median = walmart_df['quantity'].median()\n",
    "\n",
    "print(quantity_mean,quantity_median)"
   ]
  },
  {
   "cell_type": "markdown",
   "id": "514ff456",
   "metadata": {},
   "source": [
    "We’re calculating both the mean and median of the quantity column. These values will help us decide how to replace the missing data — in this case, we’ll use the median."
   ]
  },
  {
   "cell_type": "code",
   "execution_count": 100,
   "id": "97d8d1d9",
   "metadata": {},
   "outputs": [
    {
     "data": {
      "text/html": [
       "<div>\n",
       "<style scoped>\n",
       "    .dataframe tbody tr th:only-of-type {\n",
       "        vertical-align: middle;\n",
       "    }\n",
       "\n",
       "    .dataframe tbody tr th {\n",
       "        vertical-align: top;\n",
       "    }\n",
       "\n",
       "    .dataframe thead th {\n",
       "        text-align: right;\n",
       "    }\n",
       "</style>\n",
       "<table border=\"1\" class=\"dataframe\">\n",
       "  <thead>\n",
       "    <tr style=\"text-align: right;\">\n",
       "      <th></th>\n",
       "      <th>invoice_id</th>\n",
       "      <th>Branch</th>\n",
       "      <th>City</th>\n",
       "      <th>category</th>\n",
       "      <th>unit_price</th>\n",
       "      <th>quantity</th>\n",
       "      <th>date</th>\n",
       "      <th>time</th>\n",
       "      <th>payment_method</th>\n",
       "      <th>rating</th>\n",
       "      <th>profit_margin</th>\n",
       "    </tr>\n",
       "  </thead>\n",
       "  <tbody>\n",
       "    <tr>\n",
       "      <th>1892</th>\n",
       "      <td>1893</td>\n",
       "      <td>WALM024</td>\n",
       "      <td>Carrollton</td>\n",
       "      <td>Home and lifestyle</td>\n",
       "      <td>50.630053</td>\n",
       "      <td>NaN</td>\n",
       "      <td>09/06/23</td>\n",
       "      <td>16:09:00</td>\n",
       "      <td>Ewallet</td>\n",
       "      <td>9.0</td>\n",
       "      <td>0.48</td>\n",
       "    </tr>\n",
       "    <tr>\n",
       "      <th>1893</th>\n",
       "      <td>1894</td>\n",
       "      <td>WALM009</td>\n",
       "      <td>Plano</td>\n",
       "      <td>Fashion accessories</td>\n",
       "      <td>50.630053</td>\n",
       "      <td>NaN</td>\n",
       "      <td>02/08/22</td>\n",
       "      <td>22:11:00</td>\n",
       "      <td>Ewallet</td>\n",
       "      <td>4.0</td>\n",
       "      <td>0.48</td>\n",
       "    </tr>\n",
       "    <tr>\n",
       "      <th>1894</th>\n",
       "      <td>1895</td>\n",
       "      <td>WALM010</td>\n",
       "      <td>Laredo</td>\n",
       "      <td>Home and lifestyle</td>\n",
       "      <td>50.630053</td>\n",
       "      <td>NaN</td>\n",
       "      <td>01/08/23</td>\n",
       "      <td>12:06:00</td>\n",
       "      <td>Ewallet</td>\n",
       "      <td>4.0</td>\n",
       "      <td>0.48</td>\n",
       "    </tr>\n",
       "    <tr>\n",
       "      <th>1895</th>\n",
       "      <td>1896</td>\n",
       "      <td>WALM069</td>\n",
       "      <td>Rockwall</td>\n",
       "      <td>Fashion accessories</td>\n",
       "      <td>50.630053</td>\n",
       "      <td>NaN</td>\n",
       "      <td>21/07/23</td>\n",
       "      <td>15:49:00</td>\n",
       "      <td>Ewallet</td>\n",
       "      <td>4.0</td>\n",
       "      <td>0.33</td>\n",
       "    </tr>\n",
       "    <tr>\n",
       "      <th>1896</th>\n",
       "      <td>1897</td>\n",
       "      <td>WALM093</td>\n",
       "      <td>Angleton</td>\n",
       "      <td>Home and lifestyle</td>\n",
       "      <td>50.630053</td>\n",
       "      <td>NaN</td>\n",
       "      <td>15/05/22</td>\n",
       "      <td>12:36:00</td>\n",
       "      <td>Ewallet</td>\n",
       "      <td>9.0</td>\n",
       "      <td>0.33</td>\n",
       "    </tr>\n",
       "  </tbody>\n",
       "</table>\n",
       "</div>"
      ],
      "text/plain": [
       "      invoice_id   Branch        City             category  unit_price  \\\n",
       "1892        1893  WALM024  Carrollton   Home and lifestyle   50.630053   \n",
       "1893        1894  WALM009       Plano  Fashion accessories   50.630053   \n",
       "1894        1895  WALM010      Laredo   Home and lifestyle   50.630053   \n",
       "1895        1896  WALM069    Rockwall  Fashion accessories   50.630053   \n",
       "1896        1897  WALM093    Angleton   Home and lifestyle   50.630053   \n",
       "\n",
       "      quantity      date      time payment_method  rating  profit_margin  \n",
       "1892       NaN  09/06/23  16:09:00        Ewallet     9.0           0.48  \n",
       "1893       NaN  02/08/22  22:11:00        Ewallet     4.0           0.48  \n",
       "1894       NaN  01/08/23  12:06:00        Ewallet     4.0           0.48  \n",
       "1895       NaN  21/07/23  15:49:00        Ewallet     4.0           0.33  \n",
       "1896       NaN  15/05/22  12:36:00        Ewallet     9.0           0.33  "
      ]
     },
     "execution_count": 100,
     "metadata": {},
     "output_type": "execute_result"
    }
   ],
   "source": [
    "walmart_df[walmart_df['quantity'].isna()].head()"
   ]
  },
  {
   "cell_type": "markdown",
   "id": "2a367972",
   "metadata": {},
   "source": [
    "We’re previewing the rows where quantity is missing to better understand the context of the missing data."
   ]
  },
  {
   "cell_type": "code",
   "execution_count": 101,
   "id": "79687ed9",
   "metadata": {},
   "outputs": [
    {
     "data": {
      "text/plain": [
       "np.int64(0)"
      ]
     },
     "execution_count": 101,
     "metadata": {},
     "output_type": "execute_result"
    }
   ],
   "source": [
    "walmart_df['quantity'] = walmart_df['quantity'].fillna(quantity_median)\n",
    "walmart_df['quantity'].isnull().sum()"
   ]
  },
  {
   "cell_type": "markdown",
   "id": "02da12d6",
   "metadata": {},
   "source": [
    "We’re filling all missing values in the quantity column using the median."
   ]
  },
  {
   "cell_type": "code",
   "execution_count": 102,
   "id": "4a4b46f6",
   "metadata": {},
   "outputs": [
    {
     "data": {
      "text/html": [
       "<div>\n",
       "<style scoped>\n",
       "    .dataframe tbody tr th:only-of-type {\n",
       "        vertical-align: middle;\n",
       "    }\n",
       "\n",
       "    .dataframe tbody tr th {\n",
       "        vertical-align: top;\n",
       "    }\n",
       "\n",
       "    .dataframe thead th {\n",
       "        text-align: right;\n",
       "    }\n",
       "</style>\n",
       "<table border=\"1\" class=\"dataframe\">\n",
       "  <thead>\n",
       "    <tr style=\"text-align: right;\">\n",
       "      <th></th>\n",
       "      <th>invoice_id</th>\n",
       "      <th>Branch</th>\n",
       "      <th>City</th>\n",
       "      <th>category</th>\n",
       "      <th>unit_price</th>\n",
       "      <th>quantity</th>\n",
       "      <th>date</th>\n",
       "      <th>time</th>\n",
       "      <th>payment_method</th>\n",
       "      <th>rating</th>\n",
       "      <th>profit_margin</th>\n",
       "    </tr>\n",
       "  </thead>\n",
       "  <tbody>\n",
       "    <tr>\n",
       "      <th>8</th>\n",
       "      <td>9</td>\n",
       "      <td>WALM066</td>\n",
       "      <td>Grapevine</td>\n",
       "      <td>Health and beauty</td>\n",
       "      <td>36.26</td>\n",
       "      <td>2.0</td>\n",
       "      <td>10/01/19</td>\n",
       "      <td>17:15:00</td>\n",
       "      <td>Credit card</td>\n",
       "      <td>7.2</td>\n",
       "      <td>0.33</td>\n",
       "    </tr>\n",
       "    <tr>\n",
       "      <th>19</th>\n",
       "      <td>20</td>\n",
       "      <td>WALM013</td>\n",
       "      <td>Irving</td>\n",
       "      <td>Home and lifestyle</td>\n",
       "      <td>40.30</td>\n",
       "      <td>2.0</td>\n",
       "      <td>11/03/19</td>\n",
       "      <td>15:30:00</td>\n",
       "      <td>Ewallet</td>\n",
       "      <td>4.4</td>\n",
       "      <td>0.48</td>\n",
       "    </tr>\n",
       "    <tr>\n",
       "      <th>22</th>\n",
       "      <td>23</td>\n",
       "      <td>WALM083</td>\n",
       "      <td>Farmers Branch</td>\n",
       "      <td>Home and lifestyle</td>\n",
       "      <td>33.20</td>\n",
       "      <td>2.0</td>\n",
       "      <td>15/03/19</td>\n",
       "      <td>12:20:00</td>\n",
       "      <td>Credit card</td>\n",
       "      <td>4.4</td>\n",
       "      <td>0.33</td>\n",
       "    </tr>\n",
       "    <tr>\n",
       "      <th>27</th>\n",
       "      <td>28</td>\n",
       "      <td>WALM046</td>\n",
       "      <td>Temple</td>\n",
       "      <td>Fashion accessories</td>\n",
       "      <td>87.67</td>\n",
       "      <td>2.0</td>\n",
       "      <td>10/03/19</td>\n",
       "      <td>12:17:00</td>\n",
       "      <td>Credit card</td>\n",
       "      <td>7.7</td>\n",
       "      <td>0.48</td>\n",
       "    </tr>\n",
       "    <tr>\n",
       "      <th>33</th>\n",
       "      <td>34</td>\n",
       "      <td>WALM096</td>\n",
       "      <td>Eagle Pass</td>\n",
       "      <td>Health and beauty</td>\n",
       "      <td>96.58</td>\n",
       "      <td>2.0</td>\n",
       "      <td>15/03/19</td>\n",
       "      <td>10:12:00</td>\n",
       "      <td>Credit card</td>\n",
       "      <td>5.1</td>\n",
       "      <td>0.18</td>\n",
       "    </tr>\n",
       "  </tbody>\n",
       "</table>\n",
       "</div>"
      ],
      "text/plain": [
       "    invoice_id   Branch            City             category  unit_price  \\\n",
       "8            9  WALM066       Grapevine    Health and beauty       36.26   \n",
       "19          20  WALM013          Irving   Home and lifestyle       40.30   \n",
       "22          23  WALM083  Farmers Branch   Home and lifestyle       33.20   \n",
       "27          28  WALM046          Temple  Fashion accessories       87.67   \n",
       "33          34  WALM096      Eagle Pass    Health and beauty       96.58   \n",
       "\n",
       "    quantity      date      time payment_method  rating  profit_margin  \n",
       "8        2.0  10/01/19  17:15:00    Credit card     7.2           0.33  \n",
       "19       2.0  11/03/19  15:30:00        Ewallet     4.4           0.48  \n",
       "22       2.0  15/03/19  12:20:00    Credit card     4.4           0.33  \n",
       "27       2.0  10/03/19  12:17:00    Credit card     7.7           0.48  \n",
       "33       2.0  15/03/19  10:12:00    Credit card     5.1           0.18  "
      ]
     },
     "execution_count": 102,
     "metadata": {},
     "output_type": "execute_result"
    }
   ],
   "source": [
    "walmart_df[walmart_df['quantity'] == quantity_median].head()"
   ]
  },
  {
   "cell_type": "markdown",
   "id": "d4caa06f",
   "metadata": {},
   "source": [
    "This filters the dataset to show all rows where the quantity equals the median value. Useful for checking the distribution after imputation."
   ]
  },
  {
   "cell_type": "code",
   "execution_count": 103,
   "id": "5cd39d70",
   "metadata": {},
   "outputs": [
    {
     "data": {
      "text/plain": [
       "invoice_id        0\n",
       "Branch            0\n",
       "City              0\n",
       "category          0\n",
       "unit_price        0\n",
       "quantity          0\n",
       "date              0\n",
       "time              0\n",
       "payment_method    0\n",
       "rating            0\n",
       "profit_margin     0\n",
       "dtype: int64"
      ]
     },
     "execution_count": 103,
     "metadata": {},
     "output_type": "execute_result"
    }
   ],
   "source": [
    "walmart_df.isnull().sum()"
   ]
  },
  {
   "cell_type": "markdown",
   "id": "a4d29853",
   "metadata": {},
   "source": [
    "We do a final check across all columns to ensure there are no missing values left in the dataset before saving or analysis."
   ]
  },
  {
   "cell_type": "code",
   "execution_count": 104,
   "id": "4e979a33",
   "metadata": {},
   "outputs": [
    {
     "data": {
      "text/plain": [
       "np.int64(51)"
      ]
     },
     "execution_count": 104,
     "metadata": {},
     "output_type": "execute_result"
    }
   ],
   "source": [
    "walmart_df.duplicated().sum()"
   ]
  },
  {
   "cell_type": "markdown",
   "id": "72ed06ca",
   "metadata": {},
   "source": [
    "This checks how many rows in the dataset are exact duplicates of previous rows. If any are found, we may want to remove them to avoid skewing our analysis.\n"
   ]
  },
  {
   "cell_type": "code",
   "execution_count": 105,
   "id": "176a20ce",
   "metadata": {},
   "outputs": [
    {
     "data": {
      "text/html": [
       "<div>\n",
       "<style scoped>\n",
       "    .dataframe tbody tr th:only-of-type {\n",
       "        vertical-align: middle;\n",
       "    }\n",
       "\n",
       "    .dataframe tbody tr th {\n",
       "        vertical-align: top;\n",
       "    }\n",
       "\n",
       "    .dataframe thead th {\n",
       "        text-align: right;\n",
       "    }\n",
       "</style>\n",
       "<table border=\"1\" class=\"dataframe\">\n",
       "  <thead>\n",
       "    <tr style=\"text-align: right;\">\n",
       "      <th></th>\n",
       "      <th>invoice_id</th>\n",
       "      <th>Branch</th>\n",
       "      <th>City</th>\n",
       "      <th>category</th>\n",
       "      <th>unit_price</th>\n",
       "      <th>quantity</th>\n",
       "      <th>date</th>\n",
       "      <th>time</th>\n",
       "      <th>payment_method</th>\n",
       "      <th>rating</th>\n",
       "      <th>profit_margin</th>\n",
       "    </tr>\n",
       "  </thead>\n",
       "  <tbody>\n",
       "    <tr>\n",
       "      <th>9949</th>\n",
       "      <td>9950</td>\n",
       "      <td>WALM038</td>\n",
       "      <td>Sugar Land</td>\n",
       "      <td>Fashion accessories</td>\n",
       "      <td>17.0</td>\n",
       "      <td>1.0</td>\n",
       "      <td>27/11/23</td>\n",
       "      <td>9:15:00</td>\n",
       "      <td>Cash</td>\n",
       "      <td>3.0</td>\n",
       "      <td>0.48</td>\n",
       "    </tr>\n",
       "    <tr>\n",
       "      <th>10000</th>\n",
       "      <td>9950</td>\n",
       "      <td>WALM038</td>\n",
       "      <td>Sugar Land</td>\n",
       "      <td>Fashion accessories</td>\n",
       "      <td>17.0</td>\n",
       "      <td>1.0</td>\n",
       "      <td>27/11/23</td>\n",
       "      <td>9:15:00</td>\n",
       "      <td>Cash</td>\n",
       "      <td>3.0</td>\n",
       "      <td>0.48</td>\n",
       "    </tr>\n",
       "    <tr>\n",
       "      <th>9950</th>\n",
       "      <td>9951</td>\n",
       "      <td>WALM082</td>\n",
       "      <td>Weslaco</td>\n",
       "      <td>Home and lifestyle</td>\n",
       "      <td>58.0</td>\n",
       "      <td>2.0</td>\n",
       "      <td>08/07/20</td>\n",
       "      <td>12:39:00</td>\n",
       "      <td>Cash</td>\n",
       "      <td>6.0</td>\n",
       "      <td>0.33</td>\n",
       "    </tr>\n",
       "    <tr>\n",
       "      <th>10001</th>\n",
       "      <td>9951</td>\n",
       "      <td>WALM082</td>\n",
       "      <td>Weslaco</td>\n",
       "      <td>Home and lifestyle</td>\n",
       "      <td>58.0</td>\n",
       "      <td>2.0</td>\n",
       "      <td>08/07/20</td>\n",
       "      <td>12:39:00</td>\n",
       "      <td>Cash</td>\n",
       "      <td>6.0</td>\n",
       "      <td>0.33</td>\n",
       "    </tr>\n",
       "    <tr>\n",
       "      <th>9951</th>\n",
       "      <td>9952</td>\n",
       "      <td>WALM035</td>\n",
       "      <td>San Angelo</td>\n",
       "      <td>Fashion accessories</td>\n",
       "      <td>76.0</td>\n",
       "      <td>3.0</td>\n",
       "      <td>02/10/21</td>\n",
       "      <td>16:34:00</td>\n",
       "      <td>Cash</td>\n",
       "      <td>6.0</td>\n",
       "      <td>0.48</td>\n",
       "    </tr>\n",
       "    <tr>\n",
       "      <th>...</th>\n",
       "      <td>...</td>\n",
       "      <td>...</td>\n",
       "      <td>...</td>\n",
       "      <td>...</td>\n",
       "      <td>...</td>\n",
       "      <td>...</td>\n",
       "      <td>...</td>\n",
       "      <td>...</td>\n",
       "      <td>...</td>\n",
       "      <td>...</td>\n",
       "      <td>...</td>\n",
       "    </tr>\n",
       "    <tr>\n",
       "      <th>10048</th>\n",
       "      <td>9998</td>\n",
       "      <td>WALM050</td>\n",
       "      <td>Victoria</td>\n",
       "      <td>Fashion accessories</td>\n",
       "      <td>52.0</td>\n",
       "      <td>3.0</td>\n",
       "      <td>15/06/23</td>\n",
       "      <td>16:00:00</td>\n",
       "      <td>Credit card</td>\n",
       "      <td>4.0</td>\n",
       "      <td>0.48</td>\n",
       "    </tr>\n",
       "    <tr>\n",
       "      <th>9998</th>\n",
       "      <td>9999</td>\n",
       "      <td>WALM032</td>\n",
       "      <td>Tyler</td>\n",
       "      <td>Home and lifestyle</td>\n",
       "      <td>79.0</td>\n",
       "      <td>2.0</td>\n",
       "      <td>25/02/21</td>\n",
       "      <td>12:25:00</td>\n",
       "      <td>Cash</td>\n",
       "      <td>7.0</td>\n",
       "      <td>0.48</td>\n",
       "    </tr>\n",
       "    <tr>\n",
       "      <th>10049</th>\n",
       "      <td>9999</td>\n",
       "      <td>WALM032</td>\n",
       "      <td>Tyler</td>\n",
       "      <td>Home and lifestyle</td>\n",
       "      <td>79.0</td>\n",
       "      <td>2.0</td>\n",
       "      <td>25/02/21</td>\n",
       "      <td>12:25:00</td>\n",
       "      <td>Cash</td>\n",
       "      <td>7.0</td>\n",
       "      <td>0.48</td>\n",
       "    </tr>\n",
       "    <tr>\n",
       "      <th>9999</th>\n",
       "      <td>10000</td>\n",
       "      <td>WALM069</td>\n",
       "      <td>Rockwall</td>\n",
       "      <td>Fashion accessories</td>\n",
       "      <td>62.0</td>\n",
       "      <td>3.0</td>\n",
       "      <td>26/09/20</td>\n",
       "      <td>9:48:00</td>\n",
       "      <td>Cash</td>\n",
       "      <td>3.0</td>\n",
       "      <td>0.33</td>\n",
       "    </tr>\n",
       "    <tr>\n",
       "      <th>10050</th>\n",
       "      <td>10000</td>\n",
       "      <td>WALM069</td>\n",
       "      <td>Rockwall</td>\n",
       "      <td>Fashion accessories</td>\n",
       "      <td>62.0</td>\n",
       "      <td>3.0</td>\n",
       "      <td>26/09/20</td>\n",
       "      <td>9:48:00</td>\n",
       "      <td>Cash</td>\n",
       "      <td>3.0</td>\n",
       "      <td>0.33</td>\n",
       "    </tr>\n",
       "  </tbody>\n",
       "</table>\n",
       "<p>102 rows × 11 columns</p>\n",
       "</div>"
      ],
      "text/plain": [
       "       invoice_id   Branch        City             category  unit_price  \\\n",
       "9949         9950  WALM038  Sugar Land  Fashion accessories        17.0   \n",
       "10000        9950  WALM038  Sugar Land  Fashion accessories        17.0   \n",
       "9950         9951  WALM082     Weslaco   Home and lifestyle        58.0   \n",
       "10001        9951  WALM082     Weslaco   Home and lifestyle        58.0   \n",
       "9951         9952  WALM035  San Angelo  Fashion accessories        76.0   \n",
       "...           ...      ...         ...                  ...         ...   \n",
       "10048        9998  WALM050    Victoria  Fashion accessories        52.0   \n",
       "9998         9999  WALM032       Tyler   Home and lifestyle        79.0   \n",
       "10049        9999  WALM032       Tyler   Home and lifestyle        79.0   \n",
       "9999        10000  WALM069    Rockwall  Fashion accessories        62.0   \n",
       "10050       10000  WALM069    Rockwall  Fashion accessories        62.0   \n",
       "\n",
       "       quantity      date      time payment_method  rating  profit_margin  \n",
       "9949        1.0  27/11/23   9:15:00           Cash     3.0           0.48  \n",
       "10000       1.0  27/11/23   9:15:00           Cash     3.0           0.48  \n",
       "9950        2.0  08/07/20  12:39:00           Cash     6.0           0.33  \n",
       "10001       2.0  08/07/20  12:39:00           Cash     6.0           0.33  \n",
       "9951        3.0  02/10/21  16:34:00           Cash     6.0           0.48  \n",
       "...         ...       ...       ...            ...     ...            ...  \n",
       "10048       3.0  15/06/23  16:00:00    Credit card     4.0           0.48  \n",
       "9998        2.0  25/02/21  12:25:00           Cash     7.0           0.48  \n",
       "10049       2.0  25/02/21  12:25:00           Cash     7.0           0.48  \n",
       "9999        3.0  26/09/20   9:48:00           Cash     3.0           0.33  \n",
       "10050       3.0  26/09/20   9:48:00           Cash     3.0           0.33  \n",
       "\n",
       "[102 rows x 11 columns]"
      ]
     },
     "execution_count": 105,
     "metadata": {},
     "output_type": "execute_result"
    }
   ],
   "source": [
    "duplicated_rows = walmart_df[walmart_df.duplicated(keep=False)]\n",
    "duplicated_sortede = duplicated_rows.sort_values(by=walmart_df.columns.to_list())\n",
    "duplicated_sortede"
   ]
  },
  {
   "cell_type": "markdown",
   "id": "944ff1e8",
   "metadata": {},
   "source": [
    "We’re identifying all duplicate rows in the dataset — not just the second instance, but all copies, Then, we sort them by all columns to view them neatly. This helps us inspect exactly which records are repeated."
   ]
  },
  {
   "cell_type": "code",
   "execution_count": 106,
   "id": "27564a35",
   "metadata": {},
   "outputs": [
    {
     "data": {
      "text/plain": [
       "np.int64(0)"
      ]
     },
     "execution_count": 106,
     "metadata": {},
     "output_type": "execute_result"
    }
   ],
   "source": [
    "\n",
    "walmart_df.drop_duplicates(inplace=True)\n",
    "walmart_df.duplicated().sum()"
   ]
  },
  {
   "cell_type": "markdown",
   "id": "24443a2b",
   "metadata": {},
   "source": [
    "We drop all duplicate rows from the dataset using drop_duplicates(). After that, we check again to confirm that no duplicates remain."
   ]
  },
  {
   "cell_type": "code",
   "execution_count": 107,
   "id": "49c7d599",
   "metadata": {},
   "outputs": [
    {
     "name": "stderr",
     "output_type": "stream",
     "text": [
      "/tmp/ipykernel_1478/2177290742.py:1: UserWarning: Could not infer format, so each element will be parsed individually, falling back to `dateutil`. To ensure parsing is consistent and as-expected, please specify a format.\n",
      "  walmart_df['date'] = pd.to_datetime(walmart_df['date'])\n"
     ]
    },
    {
     "data": {
      "text/plain": [
       "invoice_id                 int64\n",
       "Branch                    object\n",
       "City                      object\n",
       "category                  object\n",
       "unit_price               float64\n",
       "quantity                 float64\n",
       "date              datetime64[ns]\n",
       "time                      object\n",
       "payment_method            object\n",
       "rating                   float64\n",
       "profit_margin            float64\n",
       "dtype: object"
      ]
     },
     "execution_count": 107,
     "metadata": {},
     "output_type": "execute_result"
    }
   ],
   "source": [
    "\n",
    "\n",
    "walmart_df['date'] = pd.to_datetime(walmart_df['date'])\n",
    "walmart_df.dtypes"
   ]
  },
  {
   "cell_type": "markdown",
   "id": "e4363789",
   "metadata": {},
   "source": [
    "We make sure the date column is in the proper datetime format. This is important for time-based analysis later. Then we check the data types of all columns to confirm the change.\n"
   ]
  },
  {
   "cell_type": "code",
   "execution_count": 108,
   "id": "fccc5556",
   "metadata": {},
   "outputs": [
    {
     "data": {
      "text/plain": [
       "0   2019-05-01\n",
       "1   2019-08-03\n",
       "2   2019-03-03\n",
       "3   2019-01-27\n",
       "4   2019-08-02\n",
       "Name: date, dtype: datetime64[ns]"
      ]
     },
     "execution_count": 108,
     "metadata": {},
     "output_type": "execute_result"
    }
   ],
   "source": [
    "walmart_df['date'].head()"
   ]
  },
  {
   "cell_type": "markdown",
   "id": "aaf1af73",
   "metadata": {},
   "source": [
    "This displays the first 5 values from the date column."
   ]
  },
  {
   "cell_type": "code",
   "execution_count": 109,
   "id": "5d71f500",
   "metadata": {},
   "outputs": [
    {
     "data": {
      "text/plain": [
       "Index(['invoice_id', 'branch', 'city', 'category', 'unit_price', 'quantity',\n",
       "       'date', 'time', 'payment_method', 'rating', 'profit_margin'],\n",
       "      dtype='object')"
      ]
     },
     "execution_count": 109,
     "metadata": {},
     "output_type": "execute_result"
    }
   ],
   "source": [
    "\n",
    "walmart_df.columns = walmart_df.columns.str.lower()\n",
    "walmart_df.columns\n"
   ]
  },
  {
   "cell_type": "markdown",
   "id": "e74e879c",
   "metadata": {},
   "source": [
    "We’re converting all column names to lowercase. This helps keep things consistent and avoids errors when typing column names later in the code."
   ]
  },
  {
   "cell_type": "code",
   "execution_count": 112,
   "id": "2245a1da",
   "metadata": {},
   "outputs": [],
   "source": [
    "new_order = [\n",
    "    'invoice_id', 'branch', 'city', 'category', 'payment_method', 'date', 'time',\n",
    "    'unit_price', 'quantity', 'rating', 'profit_margin'\n",
    "]\n",
    "\n",
    "\n",
    "walmart_df= walmart_df[new_order]\n"
   ]
  },
  {
   "cell_type": "markdown",
   "id": "206eae9b",
   "metadata": {},
   "source": [
    "We're rearranging the columns in a more logical order to make the dataset easier to read and analyze. This doesn't affect the data itself — just the order in which the columns appear."
   ]
  },
  {
   "cell_type": "code",
   "execution_count": 113,
   "id": "fe7e01cc",
   "metadata": {},
   "outputs": [],
   "source": [
    "walmart_df.drop(columns=['time'],inplace =True)"
   ]
  },
  {
   "cell_type": "markdown",
   "id": "f8e8f3eb",
   "metadata": {},
   "source": [
    "Dropping Time column"
   ]
  },
  {
   "cell_type": "code",
   "execution_count": 114,
   "id": "d74c1967",
   "metadata": {},
   "outputs": [
    {
     "data": {
      "text/html": [
       "<div>\n",
       "<style scoped>\n",
       "    .dataframe tbody tr th:only-of-type {\n",
       "        vertical-align: middle;\n",
       "    }\n",
       "\n",
       "    .dataframe tbody tr th {\n",
       "        vertical-align: top;\n",
       "    }\n",
       "\n",
       "    .dataframe thead th {\n",
       "        text-align: right;\n",
       "    }\n",
       "</style>\n",
       "<table border=\"1\" class=\"dataframe\">\n",
       "  <thead>\n",
       "    <tr style=\"text-align: right;\">\n",
       "      <th></th>\n",
       "      <th>invoice_id</th>\n",
       "      <th>branch</th>\n",
       "      <th>city</th>\n",
       "      <th>category</th>\n",
       "      <th>payment_method</th>\n",
       "      <th>date</th>\n",
       "      <th>unit_price</th>\n",
       "      <th>quantity</th>\n",
       "      <th>rating</th>\n",
       "      <th>profit_margin</th>\n",
       "    </tr>\n",
       "  </thead>\n",
       "  <tbody>\n",
       "    <tr>\n",
       "      <th>0</th>\n",
       "      <td>1</td>\n",
       "      <td>WALM003</td>\n",
       "      <td>San Antonio</td>\n",
       "      <td>Health and beauty</td>\n",
       "      <td>Ewallet</td>\n",
       "      <td>2019-05-01</td>\n",
       "      <td>74.69</td>\n",
       "      <td>7.0</td>\n",
       "      <td>9.1</td>\n",
       "      <td>0.48</td>\n",
       "    </tr>\n",
       "    <tr>\n",
       "      <th>1</th>\n",
       "      <td>2</td>\n",
       "      <td>WALM048</td>\n",
       "      <td>Harlingen</td>\n",
       "      <td>Electronic accessories</td>\n",
       "      <td>Cash</td>\n",
       "      <td>2019-08-03</td>\n",
       "      <td>15.28</td>\n",
       "      <td>5.0</td>\n",
       "      <td>9.6</td>\n",
       "      <td>0.48</td>\n",
       "    </tr>\n",
       "    <tr>\n",
       "      <th>2</th>\n",
       "      <td>3</td>\n",
       "      <td>WALM067</td>\n",
       "      <td>Haltom City</td>\n",
       "      <td>Home and lifestyle</td>\n",
       "      <td>Credit card</td>\n",
       "      <td>2019-03-03</td>\n",
       "      <td>46.33</td>\n",
       "      <td>7.0</td>\n",
       "      <td>7.4</td>\n",
       "      <td>0.33</td>\n",
       "    </tr>\n",
       "    <tr>\n",
       "      <th>3</th>\n",
       "      <td>4</td>\n",
       "      <td>WALM064</td>\n",
       "      <td>Bedford</td>\n",
       "      <td>Health and beauty</td>\n",
       "      <td>Ewallet</td>\n",
       "      <td>2019-01-27</td>\n",
       "      <td>58.22</td>\n",
       "      <td>8.0</td>\n",
       "      <td>8.4</td>\n",
       "      <td>0.33</td>\n",
       "    </tr>\n",
       "    <tr>\n",
       "      <th>4</th>\n",
       "      <td>5</td>\n",
       "      <td>WALM013</td>\n",
       "      <td>Irving</td>\n",
       "      <td>Sports and travel</td>\n",
       "      <td>Ewallet</td>\n",
       "      <td>2019-08-02</td>\n",
       "      <td>86.31</td>\n",
       "      <td>7.0</td>\n",
       "      <td>5.3</td>\n",
       "      <td>0.48</td>\n",
       "    </tr>\n",
       "  </tbody>\n",
       "</table>\n",
       "</div>"
      ],
      "text/plain": [
       "   invoice_id   branch         city                category payment_method  \\\n",
       "0           1  WALM003  San Antonio       Health and beauty        Ewallet   \n",
       "1           2  WALM048    Harlingen  Electronic accessories           Cash   \n",
       "2           3  WALM067  Haltom City      Home and lifestyle    Credit card   \n",
       "3           4  WALM064      Bedford       Health and beauty        Ewallet   \n",
       "4           5  WALM013       Irving       Sports and travel        Ewallet   \n",
       "\n",
       "        date  unit_price  quantity  rating  profit_margin  \n",
       "0 2019-05-01       74.69       7.0     9.1           0.48  \n",
       "1 2019-08-03       15.28       5.0     9.6           0.48  \n",
       "2 2019-03-03       46.33       7.0     7.4           0.33  \n",
       "3 2019-01-27       58.22       8.0     8.4           0.33  \n",
       "4 2019-08-02       86.31       7.0     5.3           0.48  "
      ]
     },
     "execution_count": 114,
     "metadata": {},
     "output_type": "execute_result"
    }
   ],
   "source": [
    "walmart_df.head()"
   ]
  },
  {
   "cell_type": "markdown",
   "id": "7c535cd0",
   "metadata": {},
   "source": [
    "EDA"
   ]
  },
  {
   "cell_type": "code",
   "execution_count": 115,
   "id": "6f732ee2",
   "metadata": {},
   "outputs": [
    {
     "data": {
      "text/html": [
       "<div>\n",
       "<style scoped>\n",
       "    .dataframe tbody tr th:only-of-type {\n",
       "        vertical-align: middle;\n",
       "    }\n",
       "\n",
       "    .dataframe tbody tr th {\n",
       "        vertical-align: top;\n",
       "    }\n",
       "\n",
       "    .dataframe thead th {\n",
       "        text-align: right;\n",
       "    }\n",
       "</style>\n",
       "<table border=\"1\" class=\"dataframe\">\n",
       "  <thead>\n",
       "    <tr style=\"text-align: right;\">\n",
       "      <th></th>\n",
       "      <th>invoice_id</th>\n",
       "      <th>branch</th>\n",
       "      <th>city</th>\n",
       "      <th>category</th>\n",
       "      <th>payment_method</th>\n",
       "      <th>date</th>\n",
       "      <th>unit_price</th>\n",
       "      <th>quantity</th>\n",
       "      <th>rating</th>\n",
       "      <th>profit_margin</th>\n",
       "      <th>total_price</th>\n",
       "    </tr>\n",
       "  </thead>\n",
       "  <tbody>\n",
       "    <tr>\n",
       "      <th>0</th>\n",
       "      <td>1</td>\n",
       "      <td>WALM003</td>\n",
       "      <td>San Antonio</td>\n",
       "      <td>Health and beauty</td>\n",
       "      <td>Ewallet</td>\n",
       "      <td>2019-05-01</td>\n",
       "      <td>74.69</td>\n",
       "      <td>7.0</td>\n",
       "      <td>9.1</td>\n",
       "      <td>0.48</td>\n",
       "      <td>522.83</td>\n",
       "    </tr>\n",
       "    <tr>\n",
       "      <th>1</th>\n",
       "      <td>2</td>\n",
       "      <td>WALM048</td>\n",
       "      <td>Harlingen</td>\n",
       "      <td>Electronic accessories</td>\n",
       "      <td>Cash</td>\n",
       "      <td>2019-08-03</td>\n",
       "      <td>15.28</td>\n",
       "      <td>5.0</td>\n",
       "      <td>9.6</td>\n",
       "      <td>0.48</td>\n",
       "      <td>76.40</td>\n",
       "    </tr>\n",
       "    <tr>\n",
       "      <th>2</th>\n",
       "      <td>3</td>\n",
       "      <td>WALM067</td>\n",
       "      <td>Haltom City</td>\n",
       "      <td>Home and lifestyle</td>\n",
       "      <td>Credit card</td>\n",
       "      <td>2019-03-03</td>\n",
       "      <td>46.33</td>\n",
       "      <td>7.0</td>\n",
       "      <td>7.4</td>\n",
       "      <td>0.33</td>\n",
       "      <td>324.31</td>\n",
       "    </tr>\n",
       "    <tr>\n",
       "      <th>3</th>\n",
       "      <td>4</td>\n",
       "      <td>WALM064</td>\n",
       "      <td>Bedford</td>\n",
       "      <td>Health and beauty</td>\n",
       "      <td>Ewallet</td>\n",
       "      <td>2019-01-27</td>\n",
       "      <td>58.22</td>\n",
       "      <td>8.0</td>\n",
       "      <td>8.4</td>\n",
       "      <td>0.33</td>\n",
       "      <td>465.76</td>\n",
       "    </tr>\n",
       "    <tr>\n",
       "      <th>4</th>\n",
       "      <td>5</td>\n",
       "      <td>WALM013</td>\n",
       "      <td>Irving</td>\n",
       "      <td>Sports and travel</td>\n",
       "      <td>Ewallet</td>\n",
       "      <td>2019-08-02</td>\n",
       "      <td>86.31</td>\n",
       "      <td>7.0</td>\n",
       "      <td>5.3</td>\n",
       "      <td>0.48</td>\n",
       "      <td>604.17</td>\n",
       "    </tr>\n",
       "  </tbody>\n",
       "</table>\n",
       "</div>"
      ],
      "text/plain": [
       "   invoice_id   branch         city                category payment_method  \\\n",
       "0           1  WALM003  San Antonio       Health and beauty        Ewallet   \n",
       "1           2  WALM048    Harlingen  Electronic accessories           Cash   \n",
       "2           3  WALM067  Haltom City      Home and lifestyle    Credit card   \n",
       "3           4  WALM064      Bedford       Health and beauty        Ewallet   \n",
       "4           5  WALM013       Irving       Sports and travel        Ewallet   \n",
       "\n",
       "        date  unit_price  quantity  rating  profit_margin  total_price  \n",
       "0 2019-05-01       74.69       7.0     9.1           0.48       522.83  \n",
       "1 2019-08-03       15.28       5.0     9.6           0.48        76.40  \n",
       "2 2019-03-03       46.33       7.0     7.4           0.33       324.31  \n",
       "3 2019-01-27       58.22       8.0     8.4           0.33       465.76  \n",
       "4 2019-08-02       86.31       7.0     5.3           0.48       604.17  "
      ]
     },
     "execution_count": 115,
     "metadata": {},
     "output_type": "execute_result"
    }
   ],
   "source": [
    "\n",
    "walmart_df['total_price'] = walmart_df['unit_price'] * walmart_df['quantity']\n",
    "walmart_df.head()"
   ]
  },
  {
   "cell_type": "markdown",
   "id": "dd4457f6",
   "metadata": {},
   "source": [
    "We’re creating a new column called total_price by multiplying the unit_price by the quantity for each transaction"
   ]
  },
  {
   "cell_type": "code",
   "execution_count": 116,
   "id": "843cda4f",
   "metadata": {},
   "outputs": [
    {
     "name": "stdout",
     "output_type": "stream",
     "text": [
      "  payment_method  no_payments  no_qty_sold\n",
      "0           Cash         1832       4984.0\n",
      "1    Credit card         4257       9569.0\n",
      "2        Ewallet         3911       8992.0\n"
     ]
    }
   ],
   "source": [
    "\n",
    "payment_summary = walmart_df.groupby('payment_method').agg(\n",
    "    no_payments=('payment_method', 'count'),\n",
    "    no_qty_sold=('quantity', 'sum')\n",
    ").reset_index()\n",
    "\n",
    "print(payment_summary)\n"
   ]
  },
  {
   "cell_type": "markdown",
   "id": "2c58e2f7",
   "metadata": {},
   "source": [
    "We’re grouping the data by payment_method to see:\n",
    "\n",
    "How many total transactions were made with each method (no_payments)\n",
    "\n",
    "The total quantity of items sold through each method (no_qty_sold)\n",
    "\n",
    "This helps us understand which payment methods are most popular and which drive more product sales."
   ]
  },
  {
   "cell_type": "code",
   "execution_count": 117,
   "id": "bff6c020",
   "metadata": {},
   "outputs": [
    {
     "data": {
      "text/html": [
       "<div>\n",
       "<style scoped>\n",
       "    .dataframe tbody tr th:only-of-type {\n",
       "        vertical-align: middle;\n",
       "    }\n",
       "\n",
       "    .dataframe tbody tr th {\n",
       "        vertical-align: top;\n",
       "    }\n",
       "\n",
       "    .dataframe thead th {\n",
       "        text-align: right;\n",
       "    }\n",
       "</style>\n",
       "<table border=\"1\" class=\"dataframe\">\n",
       "  <thead>\n",
       "    <tr style=\"text-align: right;\">\n",
       "      <th></th>\n",
       "      <th>branch</th>\n",
       "      <th>category</th>\n",
       "      <th>rating</th>\n",
       "    </tr>\n",
       "  </thead>\n",
       "  <tbody>\n",
       "    <tr>\n",
       "      <th>0</th>\n",
       "      <td>WALM001</td>\n",
       "      <td>Electronic accessories</td>\n",
       "      <td>7.45</td>\n",
       "    </tr>\n",
       "    <tr>\n",
       "      <th>6</th>\n",
       "      <td>WALM002</td>\n",
       "      <td>Food and beverages</td>\n",
       "      <td>8.25</td>\n",
       "    </tr>\n",
       "    <tr>\n",
       "      <th>14</th>\n",
       "      <td>WALM003</td>\n",
       "      <td>Sports and travel</td>\n",
       "      <td>7.50</td>\n",
       "    </tr>\n",
       "    <tr>\n",
       "      <th>17</th>\n",
       "      <td>WALM004</td>\n",
       "      <td>Food and beverages</td>\n",
       "      <td>9.30</td>\n",
       "    </tr>\n",
       "    <tr>\n",
       "      <th>23</th>\n",
       "      <td>WALM005</td>\n",
       "      <td>Health and beauty</td>\n",
       "      <td>8.37</td>\n",
       "    </tr>\n",
       "  </tbody>\n",
       "</table>\n",
       "</div>"
      ],
      "text/plain": [
       "     branch                category  rating\n",
       "0   WALM001  Electronic accessories    7.45\n",
       "6   WALM002      Food and beverages    8.25\n",
       "14  WALM003       Sports and travel    7.50\n",
       "17  WALM004      Food and beverages    9.30\n",
       "23  WALM005       Health and beauty    8.37"
      ]
     },
     "execution_count": 117,
     "metadata": {},
     "output_type": "execute_result"
    }
   ],
   "source": [
    "\n",
    "walmart_df.head()\n",
    "\n",
    "avg_rating = walmart_df.groupby(['branch','category'])['rating'].mean().reset_index()\n",
    "\n",
    "highest_rated = avg_rating.loc[avg_rating.groupby('branch')['rating'].idxmax()]\n",
    "highest_rated['rating'] = highest_rated['rating'].round(2)\n",
    "highest_rated.head()\n"
   ]
  },
  {
   "cell_type": "markdown",
   "id": "9f51179c",
   "metadata": {},
   "source": [
    "First, we calculate the average rating for each category within each branch.\n",
    "Then, for each branch, we find the category with the highest average rating.\n",
    "Finally, we round the ratings to 2 decimal places and show the top results.\n",
    "\n",
    "This helps identify which product categories customers rate best in each store branch."
   ]
  },
  {
   "cell_type": "code",
   "execution_count": 118,
   "id": "52a1d111",
   "metadata": {},
   "outputs": [
    {
     "data": {
      "text/html": [
       "<div>\n",
       "<style scoped>\n",
       "    .dataframe tbody tr th:only-of-type {\n",
       "        vertical-align: middle;\n",
       "    }\n",
       "\n",
       "    .dataframe tbody tr th {\n",
       "        vertical-align: top;\n",
       "    }\n",
       "\n",
       "    .dataframe thead tr th {\n",
       "        text-align: left;\n",
       "    }\n",
       "\n",
       "    .dataframe thead tr:last-of-type th {\n",
       "        text-align: right;\n",
       "    }\n",
       "</style>\n",
       "<table border=\"1\" class=\"dataframe\">\n",
       "  <thead>\n",
       "    <tr>\n",
       "      <th></th>\n",
       "      <th colspan=\"3\" halign=\"left\">unit_price</th>\n",
       "    </tr>\n",
       "    <tr>\n",
       "      <th></th>\n",
       "      <th>min</th>\n",
       "      <th>max</th>\n",
       "      <th>mean</th>\n",
       "    </tr>\n",
       "    <tr>\n",
       "      <th>category</th>\n",
       "      <th></th>\n",
       "      <th></th>\n",
       "      <th></th>\n",
       "    </tr>\n",
       "  </thead>\n",
       "  <tbody>\n",
       "    <tr>\n",
       "      <th>Electronic accessories</th>\n",
       "      <td>10.56</td>\n",
       "      <td>99.73</td>\n",
       "      <td>51.636683</td>\n",
       "    </tr>\n",
       "    <tr>\n",
       "      <th>Fashion accessories</th>\n",
       "      <td>10.18</td>\n",
       "      <td>99.89</td>\n",
       "      <td>50.126247</td>\n",
       "    </tr>\n",
       "    <tr>\n",
       "      <th>Food and beverages</th>\n",
       "      <td>10.13</td>\n",
       "      <td>99.79</td>\n",
       "      <td>56.008851</td>\n",
       "    </tr>\n",
       "    <tr>\n",
       "      <th>Health and beauty</th>\n",
       "      <td>10.08</td>\n",
       "      <td>99.96</td>\n",
       "      <td>54.854474</td>\n",
       "    </tr>\n",
       "    <tr>\n",
       "      <th>Home and lifestyle</th>\n",
       "      <td>10.53</td>\n",
       "      <td>99.92</td>\n",
       "      <td>50.444619</td>\n",
       "    </tr>\n",
       "    <tr>\n",
       "      <th>Sports and travel</th>\n",
       "      <td>10.17</td>\n",
       "      <td>99.96</td>\n",
       "      <td>56.993253</td>\n",
       "    </tr>\n",
       "  </tbody>\n",
       "</table>\n",
       "</div>"
      ],
      "text/plain": [
       "                       unit_price                  \n",
       "                              min    max       mean\n",
       "category                                           \n",
       "Electronic accessories      10.56  99.73  51.636683\n",
       "Fashion accessories         10.18  99.89  50.126247\n",
       "Food and beverages          10.13  99.79  56.008851\n",
       "Health and beauty           10.08  99.96  54.854474\n",
       "Home and lifestyle          10.53  99.92  50.444619\n",
       "Sports and travel           10.17  99.96  56.993253"
      ]
     },
     "execution_count": 118,
     "metadata": {},
     "output_type": "execute_result"
    }
   ],
   "source": [
    "\n",
    "unitprice_per_category = walmart_df.groupby('category').agg({\n",
    "    'unit_price' : ['min','max','mean']\n",
    "})\n",
    "\n",
    "unitprice_per_category"
   ]
  },
  {
   "cell_type": "markdown",
   "id": "627acbc3",
   "metadata": {},
   "source": [
    "We’re calculating the minimum, maximum, and average unit price for each product category.\n",
    "This gives us a quick comparison of pricing across categories."
   ]
  },
  {
   "cell_type": "code",
   "execution_count": 119,
   "id": "af4c0578",
   "metadata": {},
   "outputs": [
    {
     "data": {
      "text/plain": [
       "city\n",
       "Weslaco        46351.790000\n",
       "Waxahachie     40703.330000\n",
       "Plano          25890.860212\n",
       "San Antonio    24950.560000\n",
       "Richardson     24561.860106\n",
       "Name: total_price, dtype: float64"
      ]
     },
     "execution_count": 119,
     "metadata": {},
     "output_type": "execute_result"
    }
   ],
   "source": [
    "\n",
    "city_summary = walmart_df.groupby('city')['total_price'].sum().sort_values(ascending=False)\n",
    "city_summary.head()"
   ]
  },
  {
   "cell_type": "markdown",
   "id": "41d44357",
   "metadata": {},
   "source": [
    "We calculate the total revenue (total_price) for each city and sort them in descending order. This helps us identify which cities are contributing the most in sales."
   ]
  },
  {
   "cell_type": "code",
   "execution_count": 120,
   "id": "522906cb",
   "metadata": {},
   "outputs": [
    {
     "data": {
      "text/html": [
       "<div>\n",
       "<style scoped>\n",
       "    .dataframe tbody tr th:only-of-type {\n",
       "        vertical-align: middle;\n",
       "    }\n",
       "\n",
       "    .dataframe tbody tr th {\n",
       "        vertical-align: top;\n",
       "    }\n",
       "\n",
       "    .dataframe thead th {\n",
       "        text-align: right;\n",
       "    }\n",
       "</style>\n",
       "<table border=\"1\" class=\"dataframe\">\n",
       "  <thead>\n",
       "    <tr style=\"text-align: right;\">\n",
       "      <th></th>\n",
       "      <th>invoice_id</th>\n",
       "      <th>branch</th>\n",
       "      <th>city</th>\n",
       "      <th>category</th>\n",
       "      <th>payment_method</th>\n",
       "      <th>date</th>\n",
       "      <th>unit_price</th>\n",
       "      <th>quantity</th>\n",
       "      <th>rating</th>\n",
       "      <th>profit_margin</th>\n",
       "      <th>total_price</th>\n",
       "    </tr>\n",
       "  </thead>\n",
       "  <tbody>\n",
       "    <tr>\n",
       "      <th>0</th>\n",
       "      <td>1</td>\n",
       "      <td>WALM003</td>\n",
       "      <td>San Antonio</td>\n",
       "      <td>Health and beauty</td>\n",
       "      <td>Ewallet</td>\n",
       "      <td>2019-05-01</td>\n",
       "      <td>74.69</td>\n",
       "      <td>7.0</td>\n",
       "      <td>9.1</td>\n",
       "      <td>0.48</td>\n",
       "      <td>522.83</td>\n",
       "    </tr>\n",
       "    <tr>\n",
       "      <th>1</th>\n",
       "      <td>2</td>\n",
       "      <td>WALM048</td>\n",
       "      <td>Harlingen</td>\n",
       "      <td>Electronic accessories</td>\n",
       "      <td>Cash</td>\n",
       "      <td>2019-08-03</td>\n",
       "      <td>15.28</td>\n",
       "      <td>5.0</td>\n",
       "      <td>9.6</td>\n",
       "      <td>0.48</td>\n",
       "      <td>76.40</td>\n",
       "    </tr>\n",
       "    <tr>\n",
       "      <th>2</th>\n",
       "      <td>3</td>\n",
       "      <td>WALM067</td>\n",
       "      <td>Haltom City</td>\n",
       "      <td>Home and lifestyle</td>\n",
       "      <td>Credit card</td>\n",
       "      <td>2019-03-03</td>\n",
       "      <td>46.33</td>\n",
       "      <td>7.0</td>\n",
       "      <td>7.4</td>\n",
       "      <td>0.33</td>\n",
       "      <td>324.31</td>\n",
       "    </tr>\n",
       "    <tr>\n",
       "      <th>3</th>\n",
       "      <td>4</td>\n",
       "      <td>WALM064</td>\n",
       "      <td>Bedford</td>\n",
       "      <td>Health and beauty</td>\n",
       "      <td>Ewallet</td>\n",
       "      <td>2019-01-27</td>\n",
       "      <td>58.22</td>\n",
       "      <td>8.0</td>\n",
       "      <td>8.4</td>\n",
       "      <td>0.33</td>\n",
       "      <td>465.76</td>\n",
       "    </tr>\n",
       "    <tr>\n",
       "      <th>4</th>\n",
       "      <td>5</td>\n",
       "      <td>WALM013</td>\n",
       "      <td>Irving</td>\n",
       "      <td>Sports and travel</td>\n",
       "      <td>Ewallet</td>\n",
       "      <td>2019-08-02</td>\n",
       "      <td>86.31</td>\n",
       "      <td>7.0</td>\n",
       "      <td>5.3</td>\n",
       "      <td>0.48</td>\n",
       "      <td>604.17</td>\n",
       "    </tr>\n",
       "  </tbody>\n",
       "</table>\n",
       "</div>"
      ],
      "text/plain": [
       "   invoice_id   branch         city                category payment_method  \\\n",
       "0           1  WALM003  San Antonio       Health and beauty        Ewallet   \n",
       "1           2  WALM048    Harlingen  Electronic accessories           Cash   \n",
       "2           3  WALM067  Haltom City      Home and lifestyle    Credit card   \n",
       "3           4  WALM064      Bedford       Health and beauty        Ewallet   \n",
       "4           5  WALM013       Irving       Sports and travel        Ewallet   \n",
       "\n",
       "        date  unit_price  quantity  rating  profit_margin  total_price  \n",
       "0 2019-05-01       74.69       7.0     9.1           0.48       522.83  \n",
       "1 2019-08-03       15.28       5.0     9.6           0.48        76.40  \n",
       "2 2019-03-03       46.33       7.0     7.4           0.33       324.31  \n",
       "3 2019-01-27       58.22       8.0     8.4           0.33       465.76  \n",
       "4 2019-08-02       86.31       7.0     5.3           0.48       604.17  "
      ]
     },
     "execution_count": 120,
     "metadata": {},
     "output_type": "execute_result"
    }
   ],
   "source": [
    "walmart_df.head()"
   ]
  },
  {
   "cell_type": "code",
   "execution_count": null,
   "id": "1494674f",
   "metadata": {},
   "outputs": [
    {
     "data": {
      "text/html": [
       "<div>\n",
       "<style scoped>\n",
       "    .dataframe tbody tr th:only-of-type {\n",
       "        vertical-align: middle;\n",
       "    }\n",
       "\n",
       "    .dataframe tbody tr th {\n",
       "        vertical-align: top;\n",
       "    }\n",
       "\n",
       "    .dataframe thead th {\n",
       "        text-align: right;\n",
       "    }\n",
       "</style>\n",
       "<table border=\"1\" class=\"dataframe\">\n",
       "  <thead>\n",
       "    <tr style=\"text-align: right;\">\n",
       "      <th></th>\n",
       "      <th>invoice_id</th>\n",
       "      <th>branch</th>\n",
       "      <th>city</th>\n",
       "      <th>category</th>\n",
       "      <th>payment_method</th>\n",
       "      <th>date</th>\n",
       "      <th>unit_price</th>\n",
       "      <th>quantity</th>\n",
       "      <th>rating</th>\n",
       "      <th>profit_margin</th>\n",
       "      <th>total_price</th>\n",
       "      <th>year</th>\n",
       "    </tr>\n",
       "  </thead>\n",
       "  <tbody>\n",
       "    <tr>\n",
       "      <th>0</th>\n",
       "      <td>1</td>\n",
       "      <td>WALM003</td>\n",
       "      <td>San Antonio</td>\n",
       "      <td>Health and beauty</td>\n",
       "      <td>Ewallet</td>\n",
       "      <td>2019-05-01</td>\n",
       "      <td>74.69</td>\n",
       "      <td>7.0</td>\n",
       "      <td>9.1</td>\n",
       "      <td>0.48</td>\n",
       "      <td>522.83</td>\n",
       "      <td>2019</td>\n",
       "    </tr>\n",
       "    <tr>\n",
       "      <th>1</th>\n",
       "      <td>2</td>\n",
       "      <td>WALM048</td>\n",
       "      <td>Harlingen</td>\n",
       "      <td>Electronic accessories</td>\n",
       "      <td>Cash</td>\n",
       "      <td>2019-08-03</td>\n",
       "      <td>15.28</td>\n",
       "      <td>5.0</td>\n",
       "      <td>9.6</td>\n",
       "      <td>0.48</td>\n",
       "      <td>76.40</td>\n",
       "      <td>2019</td>\n",
       "    </tr>\n",
       "    <tr>\n",
       "      <th>2</th>\n",
       "      <td>3</td>\n",
       "      <td>WALM067</td>\n",
       "      <td>Haltom City</td>\n",
       "      <td>Home and lifestyle</td>\n",
       "      <td>Credit card</td>\n",
       "      <td>2019-03-03</td>\n",
       "      <td>46.33</td>\n",
       "      <td>7.0</td>\n",
       "      <td>7.4</td>\n",
       "      <td>0.33</td>\n",
       "      <td>324.31</td>\n",
       "      <td>2019</td>\n",
       "    </tr>\n",
       "    <tr>\n",
       "      <th>3</th>\n",
       "      <td>4</td>\n",
       "      <td>WALM064</td>\n",
       "      <td>Bedford</td>\n",
       "      <td>Health and beauty</td>\n",
       "      <td>Ewallet</td>\n",
       "      <td>2019-01-27</td>\n",
       "      <td>58.22</td>\n",
       "      <td>8.0</td>\n",
       "      <td>8.4</td>\n",
       "      <td>0.33</td>\n",
       "      <td>465.76</td>\n",
       "      <td>2019</td>\n",
       "    </tr>\n",
       "    <tr>\n",
       "      <th>4</th>\n",
       "      <td>5</td>\n",
       "      <td>WALM013</td>\n",
       "      <td>Irving</td>\n",
       "      <td>Sports and travel</td>\n",
       "      <td>Ewallet</td>\n",
       "      <td>2019-08-02</td>\n",
       "      <td>86.31</td>\n",
       "      <td>7.0</td>\n",
       "      <td>5.3</td>\n",
       "      <td>0.48</td>\n",
       "      <td>604.17</td>\n",
       "      <td>2019</td>\n",
       "    </tr>\n",
       "  </tbody>\n",
       "</table>\n",
       "</div>"
      ],
      "text/plain": [
       "   invoice_id   branch         city                category payment_method  \\\n",
       "0           1  WALM003  San Antonio       Health and beauty        Ewallet   \n",
       "1           2  WALM048    Harlingen  Electronic accessories           Cash   \n",
       "2           3  WALM067  Haltom City      Home and lifestyle    Credit card   \n",
       "3           4  WALM064      Bedford       Health and beauty        Ewallet   \n",
       "4           5  WALM013       Irving       Sports and travel        Ewallet   \n",
       "\n",
       "        date  unit_price  quantity  rating  profit_margin  total_price  year  \n",
       "0 2019-05-01       74.69       7.0     9.1           0.48       522.83  2019  \n",
       "1 2019-08-03       15.28       5.0     9.6           0.48        76.40  2019  \n",
       "2 2019-03-03       46.33       7.0     7.4           0.33       324.31  2019  \n",
       "3 2019-01-27       58.22       8.0     8.4           0.33       465.76  2019  \n",
       "4 2019-08-02       86.31       7.0     5.3           0.48       604.17  2019  "
      ]
     },
     "execution_count": 132,
     "metadata": {},
     "output_type": "execute_result"
    }
   ],
   "source": [
    "\n",
    "walmart_df['year'] = pd.to_datetime(walmart_df['date']).dt.year\n",
    "walmart_df.head()"
   ]
  },
  {
   "cell_type": "markdown",
   "id": "f5eb5d7c",
   "metadata": {},
   "source": [
    "We extract the year number from the date column so we can group and filter the data by time in our dashboard. This is useful for things like showing sales trends over months or filtering by year."
   ]
  },
  {
   "cell_type": "code",
   "execution_count": null,
   "id": "79962be6",
   "metadata": {},
   "outputs": [
    {
     "data": {
      "text/plain": [
       "array([ 5,  8,  3,  1,  2, 10,  6,  9, 12,  7, 11,  4], dtype=int32)"
      ]
     },
     "execution_count": 134,
     "metadata": {},
     "output_type": "execute_result"
    }
   ],
   "source": [
    "\n",
    "walmart_df['month'] = pd.to_datetime(walmart_df['date']).dt.month\n",
    "\n",
    "walmart_df['month'].unique()"
   ]
  },
  {
   "cell_type": "markdown",
   "id": "0c295e2a",
   "metadata": {},
   "source": [
    "We extract the month number from the date column so we can group and filter the data by time in our dashboard. This is useful for things like showing sales trends over months or filtering by year."
   ]
  },
  {
   "cell_type": "code",
   "execution_count": null,
   "id": "8b8c073c",
   "metadata": {},
   "outputs": [
    {
     "data": {
      "text/html": [
       "<div>\n",
       "<style scoped>\n",
       "    .dataframe tbody tr th:only-of-type {\n",
       "        vertical-align: middle;\n",
       "    }\n",
       "\n",
       "    .dataframe tbody tr th {\n",
       "        vertical-align: top;\n",
       "    }\n",
       "\n",
       "    .dataframe thead th {\n",
       "        text-align: right;\n",
       "    }\n",
       "</style>\n",
       "<table border=\"1\" class=\"dataframe\">\n",
       "  <thead>\n",
       "    <tr style=\"text-align: right;\">\n",
       "      <th></th>\n",
       "      <th>invoice_id</th>\n",
       "      <th>branch</th>\n",
       "      <th>city</th>\n",
       "      <th>category</th>\n",
       "      <th>payment_method</th>\n",
       "      <th>date</th>\n",
       "      <th>unit_price</th>\n",
       "      <th>quantity</th>\n",
       "      <th>rating</th>\n",
       "      <th>profit_margin</th>\n",
       "      <th>total_price</th>\n",
       "      <th>year</th>\n",
       "      <th>month</th>\n",
       "    </tr>\n",
       "  </thead>\n",
       "  <tbody>\n",
       "    <tr>\n",
       "      <th>9995</th>\n",
       "      <td>9996</td>\n",
       "      <td>WALM056</td>\n",
       "      <td>Rowlett</td>\n",
       "      <td>Fashion accessories</td>\n",
       "      <td>Cash</td>\n",
       "      <td>2023-03-08</td>\n",
       "      <td>37.0</td>\n",
       "      <td>3.0</td>\n",
       "      <td>3.0</td>\n",
       "      <td>0.33</td>\n",
       "      <td>111.0</td>\n",
       "      <td>2023</td>\n",
       "      <td>march</td>\n",
       "    </tr>\n",
       "    <tr>\n",
       "      <th>9996</th>\n",
       "      <td>9997</td>\n",
       "      <td>WALM030</td>\n",
       "      <td>Richardson</td>\n",
       "      <td>Home and lifestyle</td>\n",
       "      <td>Cash</td>\n",
       "      <td>2021-02-22</td>\n",
       "      <td>58.0</td>\n",
       "      <td>2.0</td>\n",
       "      <td>7.0</td>\n",
       "      <td>0.48</td>\n",
       "      <td>116.0</td>\n",
       "      <td>2021</td>\n",
       "      <td>febuary</td>\n",
       "    </tr>\n",
       "    <tr>\n",
       "      <th>9997</th>\n",
       "      <td>9998</td>\n",
       "      <td>WALM050</td>\n",
       "      <td>Victoria</td>\n",
       "      <td>Fashion accessories</td>\n",
       "      <td>Credit card</td>\n",
       "      <td>2023-06-15</td>\n",
       "      <td>52.0</td>\n",
       "      <td>3.0</td>\n",
       "      <td>4.0</td>\n",
       "      <td>0.48</td>\n",
       "      <td>156.0</td>\n",
       "      <td>2023</td>\n",
       "      <td>june</td>\n",
       "    </tr>\n",
       "    <tr>\n",
       "      <th>9998</th>\n",
       "      <td>9999</td>\n",
       "      <td>WALM032</td>\n",
       "      <td>Tyler</td>\n",
       "      <td>Home and lifestyle</td>\n",
       "      <td>Cash</td>\n",
       "      <td>2021-02-25</td>\n",
       "      <td>79.0</td>\n",
       "      <td>2.0</td>\n",
       "      <td>7.0</td>\n",
       "      <td>0.48</td>\n",
       "      <td>158.0</td>\n",
       "      <td>2021</td>\n",
       "      <td>febuary</td>\n",
       "    </tr>\n",
       "    <tr>\n",
       "      <th>9999</th>\n",
       "      <td>10000</td>\n",
       "      <td>WALM069</td>\n",
       "      <td>Rockwall</td>\n",
       "      <td>Fashion accessories</td>\n",
       "      <td>Cash</td>\n",
       "      <td>2020-09-26</td>\n",
       "      <td>62.0</td>\n",
       "      <td>3.0</td>\n",
       "      <td>3.0</td>\n",
       "      <td>0.33</td>\n",
       "      <td>186.0</td>\n",
       "      <td>2020</td>\n",
       "      <td>september</td>\n",
       "    </tr>\n",
       "  </tbody>\n",
       "</table>\n",
       "</div>"
      ],
      "text/plain": [
       "      invoice_id   branch        city             category payment_method  \\\n",
       "9995        9996  WALM056     Rowlett  Fashion accessories           Cash   \n",
       "9996        9997  WALM030  Richardson   Home and lifestyle           Cash   \n",
       "9997        9998  WALM050    Victoria  Fashion accessories    Credit card   \n",
       "9998        9999  WALM032       Tyler   Home and lifestyle           Cash   \n",
       "9999       10000  WALM069    Rockwall  Fashion accessories           Cash   \n",
       "\n",
       "           date  unit_price  quantity  rating  profit_margin  total_price  \\\n",
       "9995 2023-03-08        37.0       3.0     3.0           0.33        111.0   \n",
       "9996 2021-02-22        58.0       2.0     7.0           0.48        116.0   \n",
       "9997 2023-06-15        52.0       3.0     4.0           0.48        156.0   \n",
       "9998 2021-02-25        79.0       2.0     7.0           0.48        158.0   \n",
       "9999 2020-09-26        62.0       3.0     3.0           0.33        186.0   \n",
       "\n",
       "      year      month  \n",
       "9995  2023      march  \n",
       "9996  2021    febuary  \n",
       "9997  2023       june  \n",
       "9998  2021    febuary  \n",
       "9999  2020  september  "
      ]
     },
     "execution_count": 136,
     "metadata": {},
     "output_type": "execute_result"
    }
   ],
   "source": [
    "\n",
    "walmart_df['date'] = pd.to_datetime(walmart_df['date'], format=\"ISO8601\")\n",
    "\n",
    "month_map = {\n",
    "    1:'january',2:'febuary',3:'march',4:'april',\n",
    "    5:'may',6:'june',7:'july',8:'august',\n",
    "    9:'september',10:'october',11:'november',\n",
    "    12:'december'\n",
    "}\n",
    "\n",
    "walmart_df['month'] = walmart_df['date'].dt.month.map(month_map)\n",
    "walmart_df.tail()\n"
   ]
  },
  {
   "cell_type": "markdown",
   "id": "fe35f69d",
   "metadata": {},
   "source": [
    "We map each numeric month (1 to 12) to its name using a dictionary (month_map). This makes charts and filters easier to read for users.\n",
    "Now, instead of seeing \"3\", users will see \"march\" — which is more intuitive in a dashboard.\n",
    "\n"
   ]
  },
  {
   "cell_type": "markdown",
   "id": "c56cdd37",
   "metadata": {},
   "source": [
    "EDA and Visualization"
   ]
  },
  {
   "cell_type": "code",
   "execution_count": null,
   "id": "3e947792",
   "metadata": {},
   "outputs": [
    {
     "data": {
      "text/plain": [
       "category\n",
       "Health and beauty          854.0\n",
       "Sports and travel          920.0\n",
       "Food and beverages         952.0\n",
       "Electronic accessories    1494.0\n",
       "Home and lifestyle        9642.0\n",
       "Fashion accessories       9683.0\n",
       "Name: quantity, dtype: float64"
      ]
     },
     "execution_count": 137,
     "metadata": {},
     "output_type": "execute_result"
    }
   ],
   "source": [
    "\n",
    "top_category = walmart_df.groupby('category')['quantity'].sum()\n",
    "top_category.sort_values() \n",
    "\n"
   ]
  },
  {
   "cell_type": "markdown",
   "id": "a2ff8846",
   "metadata": {},
   "source": [
    "We group the data by category and sum up the total quantity sold in each one. Sorting it helps us clearly see which categories sold the most and which sold the least."
   ]
  },
  {
   "cell_type": "code",
   "execution_count": null,
   "id": "8df2e800",
   "metadata": {},
   "outputs": [
    {
     "data": {
      "image/png": "[encoded data removed]",
      "text/plain": [
       "<Figure size 1000x600 with 1 Axes>"
      ]
     },
     "metadata": {},
     "output_type": "display_data"
    }
   ],
   "source": [
    "\n",
    "plt.figure(figsize=(10,6))\n",
    "bars = plt.barh(top_category.index,top_category.values)\n",
    "plt.xlabel('Quantity')\n",
    "plt.title('Quantity by Category')\n",
    "\n",
    "for bar in bars:\n",
    "    width = bar.get_width()\n",
    "    plt.text(width +50,bar.get_y() + bar.get_height()/2,f'{width:.0f}',va = 'center')\n",
    "\n",
    "\n",
    "plt.tight_layout()\n",
    "plt.show()"
   ]
  },
  {
   "cell_type": "markdown",
   "id": "11c0ea39",
   "metadata": {},
   "source": [
    "We’re creating a horizontal bar chart to visually show how many units were sold in each category.\n",
    "Labels are added to each bar so it’s easy to read the exact quantity, making the chart more informative.\n",
    "\n"
   ]
  },
  {
   "cell_type": "code",
   "execution_count": 138,
   "id": "02e2bf99",
   "metadata": {},
   "outputs": [
    {
     "data": {
      "text/plain": [
       "payment_method\n",
       "Credit card    4257\n",
       "Ewallet        3911\n",
       "Cash           1832\n",
       "Name: invoice_id, dtype: int64"
      ]
     },
     "execution_count": 138,
     "metadata": {},
     "output_type": "execute_result"
    }
   ],
   "source": [
    "# total transaction by payment methoh\n",
    "\n",
    "payment_method = walmart_df.groupby('payment_method')['invoice_id'].nunique()\n",
    "payment_method.sort_values(ascending=False)\n",
    "\n"
   ]
  },
  {
   "cell_type": "markdown",
   "id": "f1f05e04",
   "metadata": {},
   "source": [
    "We group the dataset by payment_method and count the number of unique transactions (based on invoice_id) for each one. Sorting the results helps us see which payment methods are used most often.\n",
    "\n"
   ]
  },
  {
   "cell_type": "code",
   "execution_count": 139,
   "id": "d1021d69",
   "metadata": {},
   "outputs": [
    {
     "data": {
      "image/png": "[encoded data removed]",
      "text/plain": [
       "<Figure size 600x600 with 1 Axes>"
      ]
     },
     "metadata": {},
     "output_type": "display_data"
    }
   ],
   "source": [
    "# donut chart for above code\n",
    "labels = payment_method.index \n",
    "values = payment_method.values \n",
    "\n",
    "plt.figure(figsize = (6,6))\n",
    "wedges,texts,autotexts = plt.pie(values,labels = labels,\n",
    "                                 autopct='%1.1f%%',\n",
    "                                 startangle=140)\n",
    "\n",
    "center_circle = plt.Circle((0,0),0.70,fc = 'white')\n",
    "fig= plt.gcf()\n",
    "fig.gca().add_artist(center_circle)\n",
    "plt.title('Total Transaction by Payment Method')\n",
    "plt.tight_layout()\n",
    "plt.show()"
   ]
  },
  {
   "cell_type": "markdown",
   "id": "8825e346",
   "metadata": {},
   "source": [
    "We’re creating a donut-style pie chart to visualize the share of transactions by each payment method.\n",
    "The white circle in the center gives it the donut effect, and percentage labels help us quickly compare the sizes."
   ]
  },
  {
   "cell_type": "code",
   "execution_count": null,
   "id": "e4b5ee10",
   "metadata": {},
   "outputs": [
    {
     "data": {
      "text/plain": [
       "month\n",
       "april         50190.0\n",
       "august        83478.0\n",
       "december     185445.0\n",
       "febuary      109719.0\n",
       "january      144434.0\n",
       "july          55444.0\n",
       "june          58415.0\n",
       "march        115861.0\n",
       "may           57641.0\n",
       "november     184276.0\n",
       "october       81391.0\n",
       "september     86573.0\n",
       "Name: total_price, dtype: float64"
      ]
     },
     "execution_count": 150,
     "metadata": {},
     "output_type": "execute_result"
    }
   ],
   "source": [
    "\n",
    "line_chart = walmart_df.groupby('month')['total_price'].sum()\n",
    "line_chart = line_chart.round(0)\n",
    "line_chart\n"
   ]
  },
  {
   "cell_type": "markdown",
   "id": "4f3c7e39",
   "metadata": {},
   "source": [
    "We group the data by month and calculate the total revenue (total_price) for each one.\n",
    "Then we round the values to whole numbers to keep the chart clean and easy to read."
   ]
  },
  {
   "cell_type": "code",
   "execution_count": 153,
   "id": "93395063",
   "metadata": {},
   "outputs": [
    {
     "data": {
      "image/png": "[encoded data removed]",
      "text/plain": [
       "<Figure size 640x480 with 1 Axes>"
      ]
     },
     "metadata": {},
     "output_type": "display_data"
    }
   ],
   "source": [
    "plt.Figure(figsize=(10,8))\n",
    "fig4 = plt.plot(line_chart.index,\n",
    "                line_chart.values)\n",
    "\n",
    "plt.xlabel('Month')\n",
    "plt.title('Revenue by Months')\n",
    "plt.xticks(rotation= 45)\n",
    "plt.tight_layout()\n",
    "plt.show()\n"
   ]
  },
  {
   "cell_type": "markdown",
   "id": "9bc8a6eb",
   "metadata": {},
   "source": [
    "We’re plotting monthly revenue using a line chart to visualize trends over time. This helps us spot peak and low-performing months at a glance."
   ]
  },
  {
   "cell_type": "markdown",
   "id": "f15d87d0",
   "metadata": {},
   "source": [
    "Saving Dataset for Streamlit Dashboards"
   ]
  },
  {
   "cell_type": "code",
   "execution_count": 154,
   "id": "c4bac6e3",
   "metadata": {},
   "outputs": [],
   "source": [
    "\n",
    "walmart_df.to_csv('walmartcleaned_datafile.csv',index=False)"
   ]
  }
 ],
 "metadata": {
  "kernelspec": {
   "display_name": "3.11.11",
   "language": "python",
   "name": "python3"
  },
  "language_info": {
   "codemirror_mode": {
    "name": "ipython",
    "version": 3
   },
   "file_extension": ".py",
   "mimetype": "text/x-python",
   "name": "python",
   "nbconvert_exporter": "python",
   "pygments_lexer": "ipython3",
   "version": "3.11.11"
  }
 },
 "nbformat": 4,
 "nbformat_minor": 5
}
